{
 "cells": [
  {
   "cell_type": "code",
   "execution_count": null,
   "metadata": {},
   "outputs": [],
   "source": [
    "class Tienda_online:   ## Una clase es un plantilla, que tiene atributos y metodos o funciones a los que luego se le atribuyen objetos\n",
    "    def __init__(self): ## Metodo constructor  \n",
    "        self.inventario = [] \n",
    "        self.clientes = {} \n",
    "        self.ventas_totales = 0.0 \n",
    "\n",
    "    def agregar_producto(self, nombre, precio, cantidad):\n",
    "        for producto in self.inventario: \n",
    "            if producto[\"nombre\"] == nombre:\n",
    "                producto[\"cantidad\"] += cantidad \n",
    "                print(f\"Si el producto está, actualizo mi cantidad: {producto['cantidad']}\")\n",
    "                return ## Es como el print pero este guarda el contenido para luego usarse y rompe el bucle/ print solo imprime\n",
    "        nuevo_producto = {\"nombre\": nombre, \"precio\": precio, \"cantidad\": cantidad} \n",
    "        self.inventario.append(nuevo_producto) \n",
    "        print(f\"Producto '{nombre}' agregado al inventario.{self.inventario}\")\n",
    "    \n",
    "    def ver_inventario(self):\n",
    "        for producto in self.inventario:\n",
    "            print(f\" nombre: {producto['nombre']}, precio: {producto['precio']} euros, cantidad: {producto['cantidad']}\")\n",
    "            \n",
    "    def buscar_producto(self,nombre):\n",
    "        for producto in self.inventario:\n",
    "            if producto[\"nombre\"] == nombre:\n",
    "                print(producto)\n",
    "                return\n",
    "        return \"Producto no encontrado\"\n",
    "                \n",
    "    \n",
    "    def actualizar_stock(self,nombre, cantidad):\n",
    "        for producto in self.inventario:\n",
    "            if producto[\"nombre\"] == nombre:\n",
    "                producto[\"cantidad\"] +=cantidad \n",
    "                print(f\"Si el producto {producto[\"nombre\"]} está, actualizo mi cantidad:{producto['cantidad']}\")\n",
    "                return\n",
    "        return \"Producto no encontrado\"\n",
    "                \n",
    "    def eliminar_prodcuto(self,nombre):\n",
    "        for producto in self.inventario:\n",
    "            if producto[\"nombre\"] == nombre:\n",
    "                self.inventario.remove(producto)\n",
    "                print(f\"El producto: {producto[\"nombre\"]} ha sido eliminado\")  \n",
    "                return\n",
    "        return \"El producto no esta en el inventario\"\n",
    "                \n",
    "                \n",
    "    def calcular_valor_inventario(self):\n",
    "        valor_total = 0\n",
    "        for producto in self.inventario: \n",
    "            valor_total = + producto[\"cantidad\"] * producto[\"precio\"]  \n",
    "        print(f\"Este es el valor total del inventario: {valor_total} euros\") \n",
    "            \n",
    "    def realizar_compra(self):  #Esta funcion al ser tan larga, me la dividi por partes primero los input, liego ver si hay, actualizar el inventario, el if not que rompe el bucle del for y por ultimo el valor de la compra\n",
    "     carrito = {}\n",
    "     while True: # Permite al cliente -> True /Además Laura me explico que es como una formula hecha\n",
    "        self.ver_inventario()\n",
    "        compra = input(\"Dime el nombre del producto que quieres comprar (o 'salir' para terminar): \")\n",
    "        if compra == \"salir\":\n",
    "            break\n",
    "        cantidad = int(input(f\"¿Cuántos {compra} quieres comprar?: \"))\n",
    "        \n",
    "          # Ver si hay stock\n",
    "        producto_encontrado = False\n",
    "        for producto in self.inventario:\n",
    "            if producto[\"nombre\"] == compra:\n",
    "                producto_encontrado = True\n",
    "                if producto[\"cantidad\"] >= cantidad:\n",
    "                     # Añadir al carrito\n",
    "                    if compra in carrito:\n",
    "                        carrito[compra] += cantidad\n",
    "                    else:\n",
    "                        carrito[compra] = cantidad\n",
    "\n",
    "                     # Actualizar el inventario\n",
    "                    producto[\"cantidad\"] -= cantidad\n",
    "                    print(f\"Has añadido {cantidad} de {compra} al carrito.\")\n",
    "                else:\n",
    "                    print(f\"No hay suficiente stock de {compra} para completar tu pedido.\")\n",
    "                break  # Salimos del ciclo for si encontramos el producto\n",
    "        \n",
    "        if not producto_encontrado:\n",
    "            print(f\"El producto {compra} no se encuentra en el inventario.\")\n",
    "\n",
    "     # El  valor de la compra\n",
    "     valor_total = 0\n",
    "     for objeto in carrito:\n",
    "        for producto in self.inventario:\n",
    "            if producto[\"nombre\"] == objeto:\n",
    "                valor_total += carrito[objeto] * producto[\"precio\"]\n",
    "        self.ventas_totales += valor_total # Añadido a self.ventas totales\n",
    "\n",
    "     print(f\"El total de tu compra es: {valor_total} euros, gracias por tu compra\")\n",
    "    \n",
    "    \n",
    "    def procesar_pago(self):\n",
    "\n",
    "     try: \n",
    "        total= float(input(\"Dime cuanto tienes que pagar, por favor\"))\n",
    "        pago = float(input(\"Dime que dinero me vas a entregar para pagar, por favor\"))\n",
    "        \n",
    "     except: \n",
    "        print(\"Por favor, introduce un importe correcto\")\n",
    "    \n",
    "     cambio = pago - total\n",
    "     if cambio < 0 :\n",
    "        print(\"No me has dado dinero suficiente\")\n",
    "     else:\n",
    "        print(f\"El pago se ha completado, su cambio es : {cambio} en euros\")\n",
    "        \n",
    "     \n",
    "    def agregar_cliente(self, nombre, email):\n",
    "    \n",
    "     diccionario_clientes = {\"email\":email, \"compras\": []}\n",
    "     self.clientes[nombre] = diccionario_clientes ## La clave es el nombre y el diccionario es el valor\n",
    "     print(self.clientes)\n",
    "        \n",
    "    \n",
    "    \n",
    "    def ver_clientes(self):\n",
    "     for cliente in self.clientes.items(): #items(muestra clave y valor)\n",
    "        print(cliente) ##Nos devuelve una tupla(items lo que hace es que nos devuelve una tupla con su clave, valor)\n",
    "        \n",
    "    def registrar_compra(self, nombre, carrito): #Esta funcion la empiezo con el si el cliente no esta en el registro\n",
    "     if nombre not in self.clientes:\n",
    "        print(\"Este cliente no está en el registro de clientes\")\n",
    "        return\n",
    "    \n",
    "     total_compra = 0\n",
    "     for producto in carrito.values(): # Itineramos sobre los valores del producto\n",
    "      total_compra += producto[\"cantidad\"] * producto[\"precio\"]\n",
    "\n",
    "    \n",
    "     self.clientes[nombre][\"compras\"].append(carrito) # Agregamos la compra al apartado compras del diccionario del cliente en el carrito\n",
    "     self.ventas_totales += total_compra #Añadido a self.ventas totales\n",
    "     print(f\"Este es el total de la compra: {total_compra} euros\")\n",
    "     \n",
    "    \n",
    "    def ver_compras_cliente(self,nombre): \n",
    "     for cliente in self.clientes.items():# items(clave, valor)\n",
    "        print(cliente)\n",
    "    \n",
    "    def calcular_ventas_total(self): # En esta función le he dado a imprimir solo, ya que tanto la funcion realizar compra como registrar compra la he añadido a ventas totales\n",
    "     print(f\"El total de las ventas de la tienda es: {self.ventas_totales} euros\") \n",
    "        \n",
    "\n",
    "     \n",
    "       \n",
    "    "
   ]
  },
  {
   "cell_type": "code",
   "execution_count": 219,
   "metadata": {},
   "outputs": [
    {
     "name": "stdout",
     "output_type": "stream",
     "text": [
      "Producto 'lapiz' agregado al inventario.[{'nombre': 'lapiz', 'precio': 0.6, 'cantidad': 150}]\n",
      "Producto 'libretas' agregado al inventario.[{'nombre': 'lapiz', 'precio': 0.6, 'cantidad': 150}, {'nombre': 'libretas', 'precio': 1.2, 'cantidad': 45}]\n",
      "Producto 'goma' agregado al inventario.[{'nombre': 'lapiz', 'precio': 0.6, 'cantidad': 150}, {'nombre': 'libretas', 'precio': 1.2, 'cantidad': 45}, {'nombre': 'goma', 'precio': 0.5, 'cantidad': 200}]\n",
      "Producto 'boligrafo' agregado al inventario.[{'nombre': 'lapiz', 'precio': 0.6, 'cantidad': 150}, {'nombre': 'libretas', 'precio': 1.2, 'cantidad': 45}, {'nombre': 'goma', 'precio': 0.5, 'cantidad': 200}, {'nombre': 'boligrafo', 'precio': 0.65, 'cantidad': 500}]\n"
     ]
    }
   ],
   "source": [
    "\n",
    "Papeleria = Tienda_online()\n",
    "Papeleria.agregar_producto(\"lapiz\", 0.60, 150)\n",
    "Papeleria.agregar_producto(\"libretas\",1.20,45)\n",
    "Papeleria.agregar_producto(\"goma\",0.50, 200)\n",
    "Papeleria.agregar_producto(\"boligrafo\", 0.65, 500)\n"
   ]
  },
  {
   "cell_type": "code",
   "execution_count": 220,
   "metadata": {},
   "outputs": [
    {
     "name": "stdout",
     "output_type": "stream",
     "text": [
      " nombre: lapiz, precio: 0.6 euros, cantidad: 150\n",
      " nombre: libretas, precio: 1.2 euros, cantidad: 45\n",
      " nombre: goma, precio: 0.5 euros, cantidad: 200\n",
      " nombre: boligrafo, precio: 0.65 euros, cantidad: 500\n"
     ]
    }
   ],
   "source": [
    "Papeleria.ver_inventario()"
   ]
  },
  {
   "cell_type": "code",
   "execution_count": 211,
   "metadata": {},
   "outputs": [
    {
     "name": "stdout",
     "output_type": "stream",
     "text": [
      "{'nombre': 'lapiz', 'precio': 0.6, 'cantidad': 150}\n"
     ]
    }
   ],
   "source": [
    "Papeleria.buscar_producto(\"lapiz\")"
   ]
  },
  {
   "cell_type": "code",
   "execution_count": 212,
   "metadata": {},
   "outputs": [
    {
     "name": "stdout",
     "output_type": "stream",
     "text": [
      "Si el producto boligrafo está, actualizo mi cantidad:625\n"
     ]
    }
   ],
   "source": [
    "Papeleria.actualizar_stock(\"boligrafo\" ,125)"
   ]
  },
  {
   "cell_type": "code",
   "execution_count": 213,
   "metadata": {},
   "outputs": [
    {
     "name": "stdout",
     "output_type": "stream",
     "text": [
      "El producto: libretas ha sido eliminado\n"
     ]
    }
   ],
   "source": [
    "Papeleria.eliminar_prodcuto(\"libretas\")"
   ]
  },
  {
   "cell_type": "code",
   "execution_count": 207,
   "metadata": {},
   "outputs": [
    {
     "name": "stdout",
     "output_type": "stream",
     "text": [
      "Este es el valor total del inventario: 406.25 euros\n"
     ]
    }
   ],
   "source": [
    "Papeleria.calcular_valor_inventario()"
   ]
  },
  {
   "cell_type": "code",
   "execution_count": 221,
   "metadata": {},
   "outputs": [
    {
     "name": "stdout",
     "output_type": "stream",
     "text": [
      " nombre: lapiz, precio: 0.6 euros, cantidad: 150\n",
      " nombre: libretas, precio: 1.2 euros, cantidad: 45\n",
      " nombre: goma, precio: 0.5 euros, cantidad: 200\n",
      " nombre: boligrafo, precio: 0.65 euros, cantidad: 500\n",
      "Has añadido 2 de goma al carrito.\n",
      " nombre: lapiz, precio: 0.6 euros, cantidad: 150\n",
      " nombre: libretas, precio: 1.2 euros, cantidad: 45\n",
      " nombre: goma, precio: 0.5 euros, cantidad: 198\n",
      " nombre: boligrafo, precio: 0.65 euros, cantidad: 500\n",
      "El total de tu compra es: 1.0 euros, gracias por tu compra\n"
     ]
    }
   ],
   "source": [
    "Papeleria.realizar_compra()"
   ]
  },
  {
   "cell_type": "code",
   "execution_count": 167,
   "metadata": {},
   "outputs": [
    {
     "name": "stdout",
     "output_type": "stream",
     "text": [
      "El pago se ha completado, su cambio es : 1.0 en euros\n"
     ]
    }
   ],
   "source": [
    "Papeleria.procesar_pago()"
   ]
  },
  {
   "cell_type": "code",
   "execution_count": 223,
   "metadata": {},
   "outputs": [
    {
     "name": "stdout",
     "output_type": "stream",
     "text": [
      "{'Miguel': {'email': 'miguel.i.m@gmail.com', 'compras': []}}\n"
     ]
    }
   ],
   "source": [
    "Papeleria.agregar_cliente( \"Miguel\", \"miguel.i.m@gmail.com\")"
   ]
  },
  {
   "cell_type": "code",
   "execution_count": 224,
   "metadata": {},
   "outputs": [
    {
     "name": "stdout",
     "output_type": "stream",
     "text": [
      "('Miguel', {'email': 'miguel.i.m@gmail.com', 'compras': []})\n"
     ]
    }
   ],
   "source": [
    "Papeleria.ver_clientes()"
   ]
  },
  {
   "cell_type": "code",
   "execution_count": 225,
   "metadata": {},
   "outputs": [],
   "source": [
    "carrito_miguel= {\n",
    "    \"gomas\": {\"precio\": 0.50, \"cantidad\":2}, \"lapiz\": {\"precio\":0.60, \"cantidad\":2}\n",
    "    }\n",
    "    \n"
   ]
  },
  {
   "cell_type": "code",
   "execution_count": 226,
   "metadata": {},
   "outputs": [
    {
     "name": "stdout",
     "output_type": "stream",
     "text": [
      "Este es el total de la compra: 2.2 euros\n"
     ]
    }
   ],
   "source": [
    "Papeleria.registrar_compra(\"Miguel\",carrito_miguel )"
   ]
  },
  {
   "cell_type": "code",
   "execution_count": 199,
   "metadata": {},
   "outputs": [
    {
     "name": "stdout",
     "output_type": "stream",
     "text": [
      "('Miguel', {'email': 'miguel.i.m@gmail.com', 'compras': [{'gomas': {'precio': 0.5, 'cantidad': 2}, 'lapiz': {'precio': 0.6, 'cantidad': 2}}]})\n"
     ]
    }
   ],
   "source": [
    "Papeleria.ver_compras_cliente(\"Miguel\")"
   ]
  },
  {
   "cell_type": "code",
   "execution_count": 200,
   "metadata": {},
   "outputs": [
    {
     "name": "stdout",
     "output_type": "stream",
     "text": [
      "El total de las ventas de la tienda es: 3.2 euros\n"
     ]
    }
   ],
   "source": [
    "Papeleria.calcular_ventas_total()"
   ]
  }
 ],
 "metadata": {
  "kernelspec": {
   "display_name": "base",
   "language": "python",
   "name": "python3"
  },
  "language_info": {
   "codemirror_mode": {
    "name": "ipython",
    "version": 3
   },
   "file_extension": ".py",
   "mimetype": "text/x-python",
   "name": "python",
   "nbconvert_exporter": "python",
   "pygments_lexer": "ipython3",
   "version": "3.12.4"
  }
 },
 "nbformat": 4,
 "nbformat_minor": 2
}
